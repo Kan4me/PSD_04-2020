#Estudos Prodabel


Curso: https://pt.khanacademy.org/computing/computer-programming/html-css#intro-to-html

<em> <strong> <u> HTML É UMA LINGUAGEM CASE SENSITIVE</em></strong></u>

Head: Cabeçalho da página de interesse

Title: Nome da aba da página de interesse, como se fosse um marcador de livro

< : Colchete angular de abertura e o de fechamento é o >.

 O icon da aba da página de interesse é inserido no <em> <strong> head </em> </strong> conforme os comandos:
 <link rel="shortcut icon" href="caminho da imagem" />

> A tag <u>hn</u>, em que n varia de 1 a 6, define o tamanho da fonte do titulo da seção de interesse declarada na tag <u>body</u>, sendo 1 de tamanho maior e 6 de tamanho menor.

Comentários nos comandos HTML são feitos da seguinte forma: <!-- Qualquer coisa digitada aqui será compreendida como comentário, ou seja, não será executada pelo computador -->

Tags:
* <em> Itálico </em>
* <strong> Negrito </strong>
* <u> Underline </u>
* <strike> Linha do meio </strike>

Lista:
<ul>
  <li> Item away </li>
</ul>

<ol>
  <li> 0: e </li>
  <li> 1: a </li>
  <li> 2: e </li>
</ol>

Tag Imagem: <img>
* src: Fonte da imagem. S E M P R E usar uma URL para imagem
* alt: Descrição da imagem. <em> <strong> <u> S E M P R E</em></strong></u> descrever a imagem pois muitos apps de acessibilidade acessam esse atributo! 
* width: Largura
* height: Altura

> Como inserir hiperlink no html? Por meio da tag <u>a</u> com o atributo href = "URL de interesse". 

Quando a URL é de outro domínio, é uma URL Absoluta. Para que essa URL abra em uma nova janela, é necessário os seguintes comandos: <a target="_blank" href="URL de interesse"> </a>

Quando a URL é do mesmo domínio, é uma URL Relativa. 
* Para acessar conteúdo da página atual: <a href="#nome da id criada no hn de interesse">Texto qualquer, seja de uma lista ou parágrafo</a>.

> Tags para criar uma Tabela:

* <table></table> : Cria a tabela.
* <thead></thead> : Define o cabeçalho da tabela, podendo se os nomes das colunas.
* <tbody></tbody> : Corpo da tabela, ou seja, quais são os dados de entrada em cada célula da tabela.
* <tr></tr> : Entrada da linha de interesse da tabela (table row).
* <td></td> : Entrada dos dados da linha de interesse da tabela (table data).

A tabela é preenchida de forma linear, ou seja, i é fixo e o que varia é j, considerando a orientação (i,j)! Por isso que para preencher uma tabela é necessário usar as tags da seguinte forma: <tr><td></td><tr> (lembrar da identação <em> <strong> <u> SEMPRE</em></strong></u>!)




<em> <strong> CSS </em> </strong>

<em> <strong> <u> CSS É UMA LINGUAGEM CASE SENSITIVE</em></strong></u>

É uma linguagem de programação para estilizar uma página web. Seus comandos são declarados na tag <u>style</u> que deve ser inserida dentro da tag <u>head</u>. 

> As edições devem ser feitas conforme a tag de interesse, podendo ser desde os títulos, tag <u>hn</u>, a página toda, tag <u>body</u>, desde que selecionados na tag <u>style</u> SEM < > e todas as alterações devem ser declaradas dentro de {}.

Caso queira editar <em> <strong> <u> somente uma tag específica</em></strong></u>, é necessário criar um identificador único para a tag de interesse. Lembrando que o id deve ser criado SEM O CARACTER ESPAÇO. Exemplo:

<p id = "a-b-c"> dvbhsbv </p>

A chamada do id de interesse para edição é com o #nomedaid {}

Lembrando que o id <em> <strong> <u> serve para identificação de uma tag em específico, ou seja, a id só se aplica na tag em que o id foi declarado</em></strong></u>. 

Caso seja necessário editar diversas tags simultaneamente, é necessário criar uma classe. Lembrando que a classe deve ser criada SEM O CARACTER ESPAÇO. Exemplo:

<p class = "a-b-c"> dvbhsbv </p>

A chamada da classe de interesse para edição é com o 
.nomedaclasse {}

Site para pesquisa de fonte: 
* https://fonts.google.com/
* https://websitesetup.org/web-safe-fonts-html-css/ <- Fontes safes para HTML

Cor: 
* color ou background-color: rgb()
* color ou background-color: #códigoemhexadecimal, que pode ser consultado nos seguintes sites https://celke.com.br/artigo/tabela-de-cores-html-nome-hexadecimal-rgb // https://www.pantone.com/color-finder
